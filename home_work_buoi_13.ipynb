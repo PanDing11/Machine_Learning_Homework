{
 "cells": [
  {
   "cell_type": "code",
   "execution_count": null,
   "id": "initial_id",
   "metadata": {
    "collapsed": true
   },
   "outputs": [],
   "source": [
    ""
   ]
  },
  {
   "metadata": {
    "ExecuteTime": {
     "end_time": "2025-07-17T00:18:38.736216Z",
     "start_time": "2025-07-17T00:18:38.706455Z"
    }
   },
   "cell_type": "code",
   "source": [
    "# Tạo array 2D (4x3) với các số từ 1 đến 12\n",
    "# Tính tổng mỗi hàng và mỗi cột\n",
    "# Tìm phần tử lớn nhất và vị trí của nó\n",
    "\n",
    "import numpy as np\n",
    "import random\n",
    "array_2D = np.random.randint(0,12,size=(4,3))\n",
    "print(array_2D)\n",
    "# Tính tổng mỗi hàng\n",
    "row_sums = np.sum(array_2D, axis=1)\n",
    "print(\"Tổng mỗi hàng:\", row_sums)\n",
    "# Tính tổng mỗi cột\n",
    "col_sums = np.sum(array_2D, axis=0)\n",
    "print(\"Tổng mỗi cột:\", col_sums)\n",
    "# Tìm phần tử lớn nhất và vị trí của nó\n",
    "max_value = np.max(array_2D)\n",
    "max_position = np.unravel_index(np.argmax(array_2D), array_2D.shape)\n",
    "print(\"Phần tử lớn nhất:\", max_value)\n",
    "print(\"Vị trí của phần tử lớn nhất:\", max_position)"
   ],
   "id": "c9ad20e7d4da355d",
   "outputs": [
    {
     "name": "stdout",
     "output_type": "stream",
     "text": [
      "[[11 11  7]\n",
      " [ 4  8  3]\n",
      " [ 4  6  1]\n",
      " [ 2  7  8]]\n",
      "Tổng mỗi hàng: [29 15 11 17]\n",
      "Tổng mỗi cột: [21 32 19]\n",
      "Phần tử lớn nhất: 11\n",
      "Vị trí của phần tử lớn nhất: (0, 0)\n"
     ]
    }
   ],
   "execution_count": 4
  },
  {
   "metadata": {
    "ExecuteTime": {
     "end_time": "2025-07-17T00:21:17.150667Z",
     "start_time": "2025-07-17T00:21:17.134571Z"
    }
   },
   "cell_type": "code",
   "source": [
    "# Cho dữ liệu nhiệt độ 7 ngày trong tuần (độ C)\n",
    "temperatures = np.array([25.5, 27.2, 23.8, 29.1, 26.7, 24.3, 28.0])\n",
    "\n",
    "# Yêu cầu:\n",
    "# 1. Tính nhiệt độ trung bình\n",
    "mean_temp = np.mean(temperatures)\n",
    "print(\"Nhiệt độ trung bình là:\", mean_temp.round(2))\n",
    "# 2. Tìm ngày nóng nhất và lạnh nhất\n",
    "max_temp = np.max(temperatures)\n",
    "min_temp = np.min(temperatures)\n",
    "print(\"Ngày nóng nhất:\", max_temp)\n",
    "print(\"Ngày lạnh nhất:\", min_temp)\n",
    "\n",
    "# 3. Đếm số ngày nhiệt độ > 26°C\n",
    "hot_days = np.sum(temperatures > 26)\n",
    "print(\"Số ngày nóng > 26°C:\", hot_days)\n",
    "# 4. Chuyển đổi sang độ F (F = C * 9/5 + 32)\n",
    "temperatures_F = temperatures * 9/5 + 32\n",
    "print(\"Nhiệt độ (°F):\", temperatures_F)"
   ],
   "id": "e1ecb0fe5ad147a4",
   "outputs": [
    {
     "name": "stdout",
     "output_type": "stream",
     "text": [
      "Nhiệt độ trung bình là: 26.37\n",
      "Ngày nóng nhất: 29.1\n",
      "Ngày lạnh nhất: 23.8\n",
      "Số ngày nóng > 26°C: 4\n",
      "Nhiệt độ (°F): [77.9  80.96 74.84 84.38 80.06 75.74 82.4 ]\n"
     ]
    }
   ],
   "execution_count": 8
  }
 ],
 "metadata": {
  "kernelspec": {
   "display_name": "Python 3",
   "language": "python",
   "name": "python3"
  },
  "language_info": {
   "codemirror_mode": {
    "name": "ipython",
    "version": 2
   },
   "file_extension": ".py",
   "mimetype": "text/x-python",
   "name": "python",
   "nbconvert_exporter": "python",
   "pygments_lexer": "ipython2",
   "version": "2.7.6"
  }
 },
 "nbformat": 4,
 "nbformat_minor": 5
}
