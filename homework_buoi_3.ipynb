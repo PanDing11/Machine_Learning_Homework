{
 "cells": [
  {
   "cell_type": "code",
   "id": "initial_id",
   "metadata": {
    "collapsed": true,
    "ExecuteTime": {
     "end_time": "2025-05-29T12:08:06.545427Z",
     "start_time": "2025-05-29T12:08:06.537028Z"
    }
   },
   "source": [
    "# 18. Vừa gà vừa chó 36 con\n",
    "# 100 chân chẵn.\n",
    "# Tìm số gà và số chó\n",
    "# Hướng dẫn: Sử dụng 2 vòng for lồng nhau\n",
    "# số chó là x số mèo là y thì có hệ phương trình x + y = 36 và 4x + 2y = 100 thì\n",
    "# x+y = 36\n",
    "# 4x+2y = 100\n",
    "# 4(36-y) + 2y = 100\n",
    "\n",
    "# total_dogAndChicken = 36\n",
    "# numberLegRound = 100\n",
    "# numberDog = 0\n",
    "# numberChicken = 0\n",
    "# for i in range(total_dogAndChicken):\n",
    "#     for j in range(numberLegRound):\n",
    "#         if i + j == 36 and 4*i + 2*j == 100:\n",
    "#             numberDog = i\n",
    "#             numberChicken = j\n",
    "# print(numberDog, numberChicken)\n",
    "\n",
    "for cho in range(36):\n",
    "    if 4*cho + 2*(36-cho) == 100:\n",
    "        print(cho)\n",
    "        print(36-cho)\n"
   ],
   "outputs": [
    {
     "name": "stdout",
     "output_type": "stream",
     "text": [
      "14\n",
      "22\n"
     ]
    }
   ],
   "execution_count": 13
  },
  {
   "metadata": {
    "ExecuteTime": {
     "end_time": "2025-05-29T07:14:57.003624Z",
     "start_time": "2025-05-29T07:14:56.865281Z"
    }
   },
   "cell_type": "code",
   "source": [
    "# 19.Đố vui\n",
    "# Trăm bò trăm cỏ\n",
    "# Con đứng ăn năm\n",
    "# Con nằm ăn ba\n",
    "# Con già ba con một bó\n",
    "# Mỗi loại mấy con?\n",
    "# Hướng dẫn: Sử dụng 3 vòng for lồng nhau\n",
    "# 1 trăm con bò 100 cỏ\n",
    "# con nằm (y) ăn được 3 cỏ\n",
    "# con đứng (x) ăn được năm\n",
    "# con già (z) 3 con thì được 1 bó\n",
    "# lie_buffalo = 0\n",
    "# stand_buffalo = 0\n",
    "# old_buffalo = 0\n",
    "# for x in range(100):\n",
    "#     for y in range(100):\n",
    "#         for z in range(100):\n",
    "#             if x + y + z == 100 and 5*x + 3*y + z*1/3 == 100:\n",
    "#                 lie_buffalo = y\n",
    "#                 stand_buffalo = x\n",
    "#                 old_buffalo = z\n",
    "# print(lie_buffalo, stand_buffalo, old_buffalo)\n",
    "# x la so bo dung\n",
    "# y la so bo nam\n",
    "# z la so bo gia\n",
    "for x in range(0, 20):\n",
    "    for y in range(0,33):\n",
    "        if"
   ],
   "id": "c474af68a32276de",
   "outputs": [
    {
     "name": "stdout",
     "output_type": "stream",
     "text": [
      "4 12 84\n"
     ]
    }
   ],
   "execution_count": 10
  },
  {
   "metadata": {
    "ExecuteTime": {
     "end_time": "2025-05-29T10:33:24.143256Z",
     "start_time": "2025-05-29T10:33:21.092142Z"
    }
   },
   "cell_type": "code",
   "source": [
    "\n",
    "#20. Nhập n=5 in ra bản sau\n",
    "# 1 6 11 16 21\n",
    "# 2 7 12 17 22\n",
    "# 3 8 13 18 23\n",
    "# 4 9 14 19 24\n",
    "# 5 10 15 20 25\n",
    "\n",
    "n = int(input(\"Nhập N: \"))\n",
    "for i in range(1, n + 1):\n",
    "    for j in range(0, n):\n",
    "        num = j * n + i\n",
    "        print(num, end=\" \")\n",
    "    print()\n"
   ],
   "id": "f8fc60b64d39e210",
   "outputs": [
    {
     "name": "stdout",
     "output_type": "stream",
     "text": [
      "1 6 11 16 21 \n",
      "2 7 12 17 22 \n",
      "3 8 13 18 23 \n",
      "4 9 14 19 24 \n",
      "5 10 15 20 25 \n"
     ]
    }
   ],
   "execution_count": 12
  },
  {
   "metadata": {
    "ExecuteTime": {
     "end_time": "2025-05-29T07:22:28.629506Z",
     "start_time": "2025-05-29T07:22:28.620895Z"
    }
   },
   "cell_type": "code",
   "source": [
    "\n",
    "#21. Viết chương trình tìm tất cả các số chia hết cho 7 nhưng không phải bội số của 5,\n",
    "#  nằm trong đoạn 2000 và 3200 (tính cả 2000 và 3200)\n",
    "for i in range(2000, 3201):\n",
    "    if i%7==0 and i%5!=0:\n",
    "        print(i)"
   ],
   "id": "cb63a4722427645a",
   "outputs": [
    {
     "name": "stdout",
     "output_type": "stream",
     "text": [
      "2002\n",
      "2009\n",
      "2016\n",
      "2023\n",
      "2037\n",
      "2044\n",
      "2051\n",
      "2058\n",
      "2072\n",
      "2079\n",
      "2086\n",
      "2093\n",
      "2107\n",
      "2114\n",
      "2121\n",
      "2128\n",
      "2142\n",
      "2149\n",
      "2156\n",
      "2163\n",
      "2177\n",
      "2184\n",
      "2191\n",
      "2198\n",
      "2212\n",
      "2219\n",
      "2226\n",
      "2233\n",
      "2247\n",
      "2254\n",
      "2261\n",
      "2268\n",
      "2282\n",
      "2289\n",
      "2296\n",
      "2303\n",
      "2317\n",
      "2324\n",
      "2331\n",
      "2338\n",
      "2352\n",
      "2359\n",
      "2366\n",
      "2373\n",
      "2387\n",
      "2394\n",
      "2401\n",
      "2408\n",
      "2422\n",
      "2429\n",
      "2436\n",
      "2443\n",
      "2457\n",
      "2464\n",
      "2471\n",
      "2478\n",
      "2492\n",
      "2499\n",
      "2506\n",
      "2513\n",
      "2527\n",
      "2534\n",
      "2541\n",
      "2548\n",
      "2562\n",
      "2569\n",
      "2576\n",
      "2583\n",
      "2597\n",
      "2604\n",
      "2611\n",
      "2618\n",
      "2632\n",
      "2639\n",
      "2646\n",
      "2653\n",
      "2667\n",
      "2674\n",
      "2681\n",
      "2688\n",
      "2702\n",
      "2709\n",
      "2716\n",
      "2723\n",
      "2737\n",
      "2744\n",
      "2751\n",
      "2758\n",
      "2772\n",
      "2779\n",
      "2786\n",
      "2793\n",
      "2807\n",
      "2814\n",
      "2821\n",
      "2828\n",
      "2842\n",
      "2849\n",
      "2856\n",
      "2863\n",
      "2877\n",
      "2884\n",
      "2891\n",
      "2898\n",
      "2912\n",
      "2919\n",
      "2926\n",
      "2933\n",
      "2947\n",
      "2954\n",
      "2961\n",
      "2968\n",
      "2982\n",
      "2989\n",
      "2996\n",
      "3003\n",
      "3017\n",
      "3024\n",
      "3031\n",
      "3038\n",
      "3052\n",
      "3059\n",
      "3066\n",
      "3073\n",
      "3087\n",
      "3094\n",
      "3101\n",
      "3108\n",
      "3122\n",
      "3129\n",
      "3136\n",
      "3143\n",
      "3157\n",
      "3164\n",
      "3171\n",
      "3178\n",
      "3192\n",
      "3199\n"
     ]
    }
   ],
   "execution_count": 14
  }
 ],
 "metadata": {
  "kernelspec": {
   "display_name": "Python 3",
   "language": "python",
   "name": "python3"
  },
  "language_info": {
   "codemirror_mode": {
    "name": "ipython",
    "version": 2
   },
   "file_extension": ".py",
   "mimetype": "text/x-python",
   "name": "python",
   "nbconvert_exporter": "python",
   "pygments_lexer": "ipython2",
   "version": "2.7.6"
  }
 },
 "nbformat": 4,
 "nbformat_minor": 5
}
