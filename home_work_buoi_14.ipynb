{
 "cells": [
  {
   "cell_type": "code",
   "id": "initial_id",
   "metadata": {
    "collapsed": true,
    "ExecuteTime": {
     "end_time": "2025-07-31T11:59:29.102732Z",
     "start_time": "2025-07-31T11:59:28.421668Z"
    }
   },
   "source": [
    "import pandas as pd\n",
    "\n",
    "# 1. Thêm cột FamilySize = SibSp + Parch\n",
    "df = pd.read_csv(r'E:\\o D\\TeachOneself\\PythonWeb\\MachineLearing\\buoi_14\\Titanic.csv')\n",
    "df['FamilySize'] = df['sibsp'] + df['parch']\n",
    "\n",
    "# 2. Tạo cột IsAlone bằng vòng lặp\n",
    "df['IsAlone'] = 0\n",
    "for index in range(len(df)):\n",
    "    if df['FamilySize'][index] == 0:\n",
    "        df.loc[index, 'IsAlone'] = 1\n",
    "    else:\n",
    "        df.loc[index, 'IsAlone'] = 0\n",
    "\n",
    "# 3. Tạo cột LastName\n",
    "df['LastName'] = ''\n",
    "for index in range(len(df)):\n",
    "    name_parts = df['name'][index].split(',')\n",
    "    df.loc[index, 'LastName'] = name_parts[0]\n",
    "\n",
    "df.to_csv('Titanic_modified.csv', index=False)\n"
   ],
   "outputs": [
    {
     "name": "stdout",
     "output_type": "stream",
     "text": [
      "                                              name  FamilySize  IsAlone  \\\n",
      "0                    Allen, Miss. Elisabeth Walton           0        1   \n",
      "1                   Allison, Master. Hudson Trevor           3        0   \n",
      "2                     Allison, Miss. Helen Loraine           3        0   \n",
      "3             Allison, Mr. Hudson Joshua Creighton           3        0   \n",
      "4  Allison, Mrs. Hudson J C (Bessie Waldo Daniels)           3        0   \n",
      "\n",
      "  LastName  \n",
      "0    Allen  \n",
      "1  Allison  \n",
      "2  Allison  \n",
      "3  Allison  \n",
      "4  Allison  \n"
     ]
    }
   ],
   "execution_count": 8
  },
  {
   "metadata": {},
   "cell_type": "code",
   "outputs": [],
   "execution_count": null,
   "source": "",
   "id": "524356438a700dd"
  }
 ],
 "metadata": {
  "kernelspec": {
   "display_name": "Python 3",
   "language": "python",
   "name": "python3"
  },
  "language_info": {
   "codemirror_mode": {
    "name": "ipython",
    "version": 2
   },
   "file_extension": ".py",
   "mimetype": "text/x-python",
   "name": "python",
   "nbconvert_exporter": "python",
   "pygments_lexer": "ipython2",
   "version": "2.7.6"
  }
 },
 "nbformat": 4,
 "nbformat_minor": 5
}
