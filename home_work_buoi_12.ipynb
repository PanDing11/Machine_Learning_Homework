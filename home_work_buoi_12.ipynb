{
 "cells": [
  {
   "cell_type": "code",
   "execution_count": null,
   "metadata": {
    "colab": {
     "base_uri": "https://localhost:8080/"
    },
    "id": "Xs7-G4uPkj_-",
    "outputId": "90990580-be4f-4e63-ac88-f0a8c0581b88"
   },
   "outputs": [
    {
     "name": "stdout",
     "output_type": "stream",
     "text": [
      "25\n",
      "25\n"
     ]
    }
   ],
   "source": [
    "# Cú pháp: lambda arguments: expression\n",
    "\n",
    "# Định nghĩa một hàm bình phương theo cách thông thường\n",
    "def square(x):\n",
    "    return x ** 2\n",
    "\n",
    "# Viết lại hàm bình phương bằng lambda (hàm ẩn danh)\n",
    "square_lambda = lambda x: x ** 2\n",
    "\n",
    "# In ra kết quả của cả hai cách\n",
    "print(square(5))        # 25\n",
    "print(square_lambda(5)) # 25\n"
   ]
  },
  {
   "cell_type": "code",
   "execution_count": null,
   "metadata": {
    "colab": {
     "base_uri": "https://localhost:8080/"
    },
    "id": "e0w98_rLh5mY",
    "outputId": "a77b5c57-8d5a-46d3-9119-5e77519deea5"
   },
   "outputs": [
    {
     "name": "stdout",
     "output_type": "stream",
     "text": [
      "Sắp xếp theo lương: [{'name': 'Dung', 'salary': 8000000, 'department': 'Sales'}, {'name': 'Bình', 'salary': 7000000, 'department': 'Marketing'}, {'name': 'Chi', 'salary': 6000000, 'department': 'IT'}, {'name': 'An', 'salary': 5000000, 'department': 'IT'}]\n",
      "Sắp xếp phức tạp: [{'name': 'Chi', 'salary': 6000000, 'department': 'IT'}, {'name': 'An', 'salary': 5000000, 'department': 'IT'}, {'name': 'Bình', 'salary': 7000000, 'department': 'Marketing'}, {'name': 'Dung', 'salary': 8000000, 'department': 'Sales'}]\n",
      "Kết quả tính toán với 10: [20, 100, 5.0, 110]\n"
     ]
    }
   ],
   "source": [
    "# 1. Sắp xếp danh sách theo tiêu chí phức tạp\n",
    "employees = [\n",
    "    {'name': 'An', 'salary': 5000000, 'department': 'IT'},\n",
    "    {'name': 'Bình', 'salary': 7000000, 'department': 'Marketing'},\n",
    "    {'name': 'Chi', 'salary': 6000000, 'department': 'IT'},\n",
    "    {'name': 'Dung', 'salary': 8000000, 'department': 'Sales'}\n",
    "]\n",
    "\n",
    "# Sắp xếp theo lương giảm dần\n",
    "sorted_by_salary = sorted(employees, key=lambda emp: emp['salary'], reverse=True)\n",
    "print(\"Sắp xếp theo lương:\", sorted_by_salary)\n",
    "\n",
    "# Sắp xếp theo phòng ban (tăng dần), nếu cùng phòng thì xét lương giảm dần\n",
    "sorted_complex = sorted(employees,\n",
    "                        key=lambda emp: (emp['department'], -emp['salary']))\n",
    "print(\"Sắp xếp phức tạp:\", sorted_complex)\n",
    "\n",
    "# 2. Tính toán nhanh với danh sách các hàm lambda\n",
    "calculations = [\n",
    "    lambda x: x * 2,      # Nhân đôi\n",
    "    lambda x: x ** 2,     # Bình phương\n",
    "    lambda x: x / 2,      # Chia đôi\n",
    "    lambda x: x + 100     # Cộng 100\n",
    "]\n",
    "\n",
    "value = 10\n",
    "# Áp dụng mỗi hàm trong danh sách cho giá trị 10\n",
    "results = [calc(value) for calc in calculations]\n",
    "print(f\"Kết quả tính toán với {value}: {results}\")\n"
   ]
  },
  {
   "cell_type": "code",
   "execution_count": null,
   "metadata": {
    "colab": {
     "base_uri": "https://localhost:8080/"
    },
    "id": "Pv78yOEOiTUg",
    "outputId": "2e51eb0a-b0f1-4011-c453-5e1f4fcf8e6a"
   },
   "outputs": [
    {
     "name": "stdout",
     "output_type": "stream",
     "text": [
      "[<function <lambda> at 0x7a38eed6cea0>, [1, 2, 3, 4, 5]]\n",
      "Truyền thống: [1, 4, 9, 16, 25]\n",
      "Map: [1, 4, 9, 16, 25]\n"
     ]
    }
   ],
   "source": [
    "# map(function, iterable)\n",
    "\n",
    "# Danh sách các số\n",
    "numbers = [1, 2, 3, 4, 5]\n",
    "\n",
    "# Cách truyền thống để bình phương từng số\n",
    "squares_traditional = []\n",
    "for num in numbers:\n",
    "    squares_traditional.append(num ** 2)\n",
    "\n",
    "# Sử dụng hàm map với lambda để bình phương\n",
    "squares_map = list(map(lambda x: x ** 2, numbers))\n",
    "print(\"Truyền thống:\", squares_traditional)\n",
    "print(\"Map:\", squares_map)\n"
   ]
  },
  {
   "cell_type": "code",
   "execution_count": null,
   "metadata": {
    "id": "PIO61bhAjIxh"
   },
   "outputs": [],
   "source": [
    "# 1. Xử lý dữ liệu khách hàng\n",
    "customers = [\n",
    "    \"  nguyễn văn an  \",\n",
    "    \"  TRẦN THỊ BÌNH  \",\n",
    "    \"  lê văn chi   \",\n",
    "    \"  PHẠM THỊ DUNG  \"\n",
    "]\n",
    "\n",
    "# Chuẩn hóa tên khách hàng\n",
    "normalized_names = list(map(lambda name: name.strip().title(), customers))\n",
    "print(\"Tên chuẩn hóa:\", normalized_names)\n",
    "\n",
    "# 2. Chuyển đổi giá tiền\n",
    "prices_usd = [100, 250, 75, 500, 1200]\n",
    "usd_to_vnd = 24000\n",
    "\n",
    "# Chuyển đổi sang VND\n",
    "prices_vnd = list(map(lambda price: price * usd_to_vnd, prices_usd))\n",
    "print(\"Giá VND:\", prices_vnd)\n",
    "\n",
    "# Format tiền tệ\n",
    "formatted_prices = list(map(lambda price: f\"{price:,.0f} VND\", prices_vnd))\n",
    "print(\"Giá định dạng:\", formatted_prices)\n",
    "\n",
    "# 3. Xử lý dữ liệu bán hàng\n",
    "sales_data = [\n",
    "    \"2024-01-15|Product A|150000|5\",\n",
    "    \"2024-01-16|Product B|200000|3\",\n",
    "    \"2024-01-17|Product C|75000|10\",\n",
    "    \"2024-01-18|Product A|150000|2\"\n",
    "]\n",
    "\n",
    "def parse_sale_record(record):\n",
    "    date, product, price, quantity = record.split('|')\n",
    "    return {\n",
    "        'date': date,\n",
    "        'product': product,\n",
    "        'unit_price': int(price),\n",
    "        'quantity': int(quantity),\n",
    "        'total': int(price) * int(quantity)\n",
    "    }\n",
    "\n",
    "# Chuyển đổi dữ liệu\n",
    "parsed_sales = list(map(parse_sale_record, sales_data))\n",
    "print(\"Dữ liệu bán hàng:\")\n",
    "for sale in parsed_sales:\n",
    "    print(f\"  {sale}\")"
   ]
  },
  {
   "cell_type": "code",
   "execution_count": null,
   "metadata": {
    "colab": {
     "base_uri": "https://localhost:8080/"
    },
    "id": "cpTV7MdOriqd",
    "outputId": "4031566e-0ed9-426c-9641-009d4837592c"
   },
   "outputs": [
    {
     "name": "stdout",
     "output_type": "stream",
     "text": [
      "Số chẵn: [2, 4, 6, 8, 10]\n",
      "Lớn hơn 5: [6, 7, 8, 9, 10]\n"
     ]
    }
   ],
   "source": [
    "# filter(function, iterable)\n",
    "\n",
    "numbers = [1, 2, 3, 4, 5, 6, 7, 8, 9, 10]\n",
    "\n",
    "# Lọc số chẵn\n",
    "even_numbers = list(filter(lambda x: x % 2 == 0, numbers))\n",
    "print(\"Số chẵn:\", even_numbers)\n",
    "\n",
    "# Lọc số lớn hơn 5\n",
    "greater_than_5 = list(filter(lambda x: x > 5, numbers))\n",
    "print(\"Lớn hơn 5:\", greater_than_5)"
   ]
  },
  {
   "cell_type": "code",
   "execution_count": null,
   "metadata": {
    "id": "Tu3v6Y5Zr-HM"
   },
   "outputs": [],
   "source": [
    "# 1. Lọc nhân viên theo tiêu chí\n",
    "employees = [\n",
    "    {'name': 'An', 'age': 25, 'salary': 5000000, 'department': 'IT', 'experience': 2},\n",
    "    {'name': 'Bình', 'age': 30, 'salary': 7000000, 'department': 'Marketing', 'experience': 5},\n",
    "    {'name': 'Chi', 'age': 28, 'salary': 6000000, 'department': 'IT', 'experience': 3},\n",
    "    {'name': 'Dung', 'age': 35, 'salary': 8000000, 'department': 'Sales', 'experience': 8},\n",
    "    {'name': 'Em', 'age': 22, 'salary': 3500000, 'department': 'IT', 'experience': 1}\n",
    "]\n",
    "\n",
    "# Lọc nhân viên IT\n",
    "it_employees = list(filter(lambda emp: emp['department'] == 'IT', employees))\n",
    "print(\"Nhân viên IT:\", [emp['name'] for emp in it_employees])\n",
    "\n",
    "# Lọc nhân viên lương cao và kinh nghiệm đủ\n",
    "senior_high_paid = list(filter(\n",
    "    lambda emp: emp['salary'] >= 6000000 and emp['experience'] >= 3,\n",
    "    employees\n",
    "))\n",
    "print(\"Lương cao + Kinh nghiệm:\", [emp['name'] for emp in senior_high_paid])\n",
    "\n",
    "# 2. Lọc đơn hàng theo trạng thái\n",
    "orders = [\n",
    "    {'id': 'ORD001', 'amount': 1500000, 'status': 'completed', 'customer_type': 'VIP'},\n",
    "    {'id': 'ORD002', 'amount': 500000, 'status': 'pending', 'customer_type': 'Regular'},\n",
    "    {'id': 'ORD003', 'amount': 2500000, 'status': 'completed', 'customer_type': 'VIP'},\n",
    "    {'id': 'ORD004', 'amount': 800000, 'status': 'cancelled', 'customer_type': 'Regular'},\n",
    "    {'id': 'ORD005', 'amount': 3000000, 'status': 'completed', 'customer_type': 'Premium'}\n",
    "]\n",
    "\n",
    "# Lọc đơn hàng hoàn thành với giá trị cao\n",
    "high_value_completed = list(filter(\n",
    "    lambda order: order['status'] == 'completed' and order['amount'] >= 2000000,\n",
    "    orders\n",
    "))\n",
    "print(\"Đơn hàng giá trị cao:\", [order['id'] for order in high_value_completed])\n",
    "\n",
    "# 3. Lọc sản phẩm trong kho\n",
    "products = [\n",
    "    {'name': 'Laptop Dell', 'category': 'Electronics', 'stock': 15, 'price': 15000000},\n",
    "    {'name': 'iPhone 15', 'category': 'Electronics', 'stock': 0, 'price': 25000000},\n",
    "    {'name': 'Áo sơ mi', 'category': 'Fashion', 'stock': 25, 'price': 500000},\n",
    "    {'name': 'Giày thể thao', 'category': 'Fashion', 'stock': 5, 'price': 1200000},\n",
    "    {'name': 'Máy pha cà phê', 'category': 'Home', 'stock': 8, 'price': 3000000}\n",
    "]\n",
    "\n",
    "# Sản phẩm còn hàng\n",
    "in_stock = list(filter(lambda p: p['stock'] > 0, products))\n",
    "print(\"Còn hàng:\", [p['name'] for p in in_stock])\n",
    "\n",
    "# Sản phẩm cần nhập thêm (stock < 10)\n",
    "need_restock = list(filter(lambda p: p['stock'] < 10 and p['stock'] > 0, products))\n",
    "print(\"Cần nhập hàng:\", [p['name'] for p in need_restock])"
   ]
  },
  {
   "cell_type": "code",
   "execution_count": null,
   "metadata": {
    "id": "ws8irKw6s-Fz"
   },
   "outputs": [],
   "source": [
    "# Ví dụ tổng hợp: Xử lý dữ liệu bán hàng\n",
    "sales_records = [\n",
    "    {'product': 'Laptop', 'quantity': 2, 'unit_price': 15000000, 'discount': 0.1},\n",
    "    {'product': 'Phone', 'quantity': 1, 'unit_price': 12000000, 'discount': 0.05},\n",
    "    {'product': 'Tablet', 'quantity': 3, 'unit_price': 8000000, 'discount': 0.15},\n",
    "    {'product': 'Watch', 'quantity': 5, 'unit_price': 3000000, 'discount': 0.0},\n",
    "    {'product': 'Headphone', 'quantity': 10, 'unit_price': 2000000, 'discount': 0.2}\n",
    "]\n",
    "\n",
    "# Bước 1: Tính tổng tiền cho mỗi record\n",
    "def calculate_total(record):\n",
    "    subtotal = record['quantity'] * record['unit_price']\n",
    "    discount_amount = subtotal * record['discount']\n",
    "    return {\n",
    "        **record,\n",
    "        'subtotal': subtotal,\n",
    "        'discount_amount': discount_amount,\n",
    "        'total': subtotal - discount_amount\n",
    "    }\n",
    "\n",
    "sales_with_total = list(map(calculate_total, sales_records))\n",
    "\n",
    "# Bước 2: Lọc đơn hàng giá trị cao (> 20 triệu)\n",
    "high_value_sales = list(filter(lambda s: s['total'] > 20000000, sales_with_total))\n",
    "\n",
    "# Bước 3: Lấy thông tin cần thiết\n",
    "summary = list(map(\n",
    "    lambda s: {\n",
    "        'product': s['product'],\n",
    "        'total': s['total'],\n",
    "        'profit_margin': s['total'] * 0.3  # Giả sử lợi nhuận 30%\n",
    "    },\n",
    "    high_value_sales\n",
    "))\n",
    "\n",
    "print(\"Tóm tắt đơn hàng giá trị cao:\")\n",
    "for item in summary:\n",
    "    print(f\"  {item['product']}: {item['total']:,.0f} VND (Lợi nhuận: {item['profit_margin']:,.0f} VND)\")"
   ]
  },
  {
   "cell_type": "code",
   "execution_count": null,
   "metadata": {
    "colab": {
     "base_uri": "https://localhost:8080/"
    },
    "id": "pZAODKjdtXjj",
    "outputId": "c94d6672-2464-4c5f-cc42-e29f0f67f62e"
   },
   "outputs": [
    {
     "name": "stdout",
     "output_type": "stream",
     "text": [
      "Loop truyền thống: 0.0908 giây\n",
      "Map + Filter: 0.0774 giây\n",
      "List Comprehension: 0.0967 giây\n",
      "Kết quả giống nhau: True\n"
     ]
    }
   ],
   "source": [
    "import time\n",
    "\n",
    "# Dữ liệu test lớn\n",
    "large_data = list(range(1000000))\n",
    "\n",
    "# Test với loop truyền thống\n",
    "start_time = time.time()\n",
    "result_loop = []\n",
    "for num in large_data:\n",
    "    if num % 2 == 0:\n",
    "        result_loop.append(num * 2)\n",
    "end_time = time.time()\n",
    "print(f\"Loop truyền thống: {end_time - start_time:.4f} giây\")\n",
    "\n",
    "# Test với map + filter\n",
    "start_time = time.time()\n",
    "result_functional = list(map(lambda x: x * 2, filter(lambda x: x % 2 == 0, large_data)))\n",
    "end_time = time.time()\n",
    "print(f\"Map + Filter: {end_time - start_time:.4f} giây\")\n",
    "\n",
    "# Test với list comprehension\n",
    "start_time = time.time()\n",
    "result_comprehension = [num * 2 for num in large_data if num % 2 == 0]\n",
    "end_time = time.time()\n",
    "print(f\"List Comprehension: {end_time - start_time:.4f} giây\")\n",
    "\n",
    "print(f\"Kết quả giống nhau: {result_loop == result_functional == result_comprehension}\")"
   ]
  },
  {
   "cell_type": "code",
   "execution_count": null,
   "metadata": {
    "id": "2Pz4bPyuuSvf"
   },
   "outputs": [],
   "source": [
    "import re"
   ]
  },
  {
   "cell_type": "code",
   "execution_count": null,
   "metadata": {
    "colab": {
     "base_uri": "https://localhost:8080/"
    },
    "id": "zpDZI4AcuyHI",
    "outputId": "de0e65ae-ea7a-4304-b95c-9f399a4ee3c4"
   },
   "outputs": [
    {
     "name": "stdout",
     "output_type": "stream",
     "text": [
      "Tìm thấy số điện thoại: 0912345678\n",
      "Tất cả số: ['0912345678']\n",
      "Email hợp lệ: user@company.com\n",
      "Text đã mask: Tôi có số điện thoại XXX-XXX-XXXX và email test@company.com\n"
     ]
    }
   ],
   "source": [
    "# 1. re.search() - Tìm kiếm lần xuất hiện đầu tiên\n",
    "text = \"Tôi có số điện thoại 0912345678 và email test@company.com\"\n",
    "\n",
    "phone_match = re.search(r'\\d{10}', text)\n",
    "if phone_match:\n",
    "    print(f\"Tìm thấy số điện thoại: {phone_match.group()}\")\n",
    "\n",
    "# 2. re.findall() - Tìm tất cả lần xuất hiện\n",
    "numbers = re.findall(r'\\d+', text)\n",
    "print(f\"Tất cả số: {numbers}\")\n",
    "\n",
    "# 3. re.match() - Khớp từ đầu chuỗi\n",
    "email = \"user@company.com\"\n",
    "match = re.match(r'^[a-zA-Z0-9._%+-]+@[a-zA-Z0-9.-]+\\.[a-zA-Z]{2,}$', email)\n",
    "if match:\n",
    "    print(f\"Email hợp lệ: {email}\")\n",
    "\n",
    "# 4. re.sub() - Thay thế\n",
    "masked_text = re.sub(r'\\d{10}', 'XXX-XXX-XXXX', text)\n",
    "print(f\"Text đã mask: {masked_text}\")"
   ]
  },
  {
   "cell_type": "code",
   "execution_count": null,
   "metadata": {
    "colab": {
     "base_uri": "https://localhost:8080/"
    },
    "id": "Jkm43gYVvSdJ",
    "outputId": "6410d706-67ad-4a43-a273-6dc25d7fe0cd"
   },
   "outputs": [
    {
     "name": "stdout",
     "output_type": "stream",
     "text": [
      "\\d         |Số (0-9)                 : ['0', '9', '1', '2', '3', '4', '5', '6', '7', '8']\n",
      "\\w         |Chữ cái, số, underscore  : ['H', 'ọ', 't', 'ê', 'n', 'N', 'g', 'u', 'y', 'ễ', 'n', 'V', 'ă', 'n', 'A', 'n', 'S', 'D', 'T', '0', '9', '1', '2', '3', '4', '5', '6', '7', '8', 'E', 'm', 'a', 'i', 'l', 'a', 'n', 'n', 'g', 'u', 'y', 'e', 'n', 'c', 'o', 'm', 'p', 'a', 'n', 'y', 'c', 'o', 'm', 'v', 'n']\n",
      "\\s         |Khoảng trắng             : [' ', ' ', ' ', ' ', ' ', ' ', ' ', ' ']\n",
      ".          |Bất kỳ ký tự nào         : ['H', 'ọ', ' ', 't', 'ê', 'n', ':', ' ', 'N', 'g', 'u', 'y', 'ễ', 'n', ' ', 'V', 'ă', 'n', ' ', 'A', 'n', ',', ' ', 'S', 'D', 'T', ':', ' ', '0', '9', '1', '2', '3', '4', '5', '6', '7', '8', ',', ' ', 'E', 'm', 'a', 'i', 'l', ':', ' ', 'a', 'n', '.', 'n', 'g', 'u', 'y', 'e', 'n', '@', 'c', 'o', 'm', 'p', 'a', 'n', 'y', '.', 'c', 'o', 'm', '.', 'v', 'n']\n",
      "^          |Bắt đầu chuỗi            : ['']\n",
      "a*         |0 hoặc nhiều lần         : ['', '', '', '', '', '', '', '', '', '', '', '', '', '', '', '', '', '', '', '', '', '', '', '', '', '', '', '', '', '', '', '', '', '', '', '', '', '', '', '', '', '', 'a', '', '', '', '', 'a', '', '', '', '', '', '', '', '', '', '', '', '', '', 'a', '', '', '', '', '', '', '', '', '', '']\n",
      "a+         |1 hoặc nhiều lần         : ['a', 'a', 'a']\n",
      "a?         |0 hoặc 1 lần             : ['', '', '', '', '', '', '', '', '', '', '', '', '', '', '', '', '', '', '', '', '', '', '', '', '', '', '', '', '', '', '', '', '', '', '', '', '', '', '', '', '', '', 'a', '', '', '', '', 'a', '', '', '', '', '', '', '', '', '', '', '', '', '', 'a', '', '', '', '', '', '', '', '', '', '']\n",
      "[abc]      |Một trong các ký tự a, b, c: ['a', 'a', 'c', 'a', 'c']\n",
      "[a-z]      |Chữ thường từ a đến z    : ['t', 'n', 'g', 'u', 'y', 'n', 'n', 'n', 'm', 'a', 'i', 'l', 'a', 'n', 'n', 'g', 'u', 'y', 'e', 'n', 'c', 'o', 'm', 'p', 'a', 'n', 'y', 'c', 'o', 'm', 'v', 'n']\n",
      "[A-Z]      |Chữ hoa từ A đến Z       : ['H', 'N', 'V', 'A', 'S', 'D', 'T', 'E']\n"
     ]
    }
   ],
   "source": [
    "# Metacharacters và ý nghĩa\n",
    "patterns_examples = {\n",
    "    r'\\d': \"Số (0-9)\",\n",
    "    r'\\w': \"Chữ cái, số, underscore\",\n",
    "    r'\\s': \"Khoảng trắng\",\n",
    "    r'.': \"Bất kỳ ký tự nào\",\n",
    "    r'^': \"Bắt đầu chuỗi\",\n",
    "    r'$': \"Kết thúc chuỗi\",\n",
    "    r'*': \"0 hoặc nhiều lần\",\n",
    "    r'+': \"1 hoặc nhiều lần\",\n",
    "    r'?': \"0 hoặc 1 lần\",\n",
    "    r'{n}': \"Chính xác n lần\",\n",
    "    r'{n,m}': \"Từ n đến m lần\",\n",
    "    r'[abc]': \"Một trong các ký tự a, b, c\",\n",
    "    r'[a-z]': \"Chữ thường từ a đến z\",\n",
    "    r'[A-Z]': \"Chữ hoa từ A đến Z\",\n",
    "    r'(group)': \"Nhóm capture\"\n",
    "}\n",
    "\n",
    "# Ví dụ thực tế\n",
    "test_string = \"Họ tên: Nguyễn Văn An, SDT: 0912345678, Email: an.nguyen@company.com.vn\"\n",
    "\n",
    "for pattern, description in patterns_examples.items():\n",
    "  try: # Thêm khối try-except để bắt lỗi nếu có pattern không hợp lệ khác\n",
    "    matches = re.findall(pattern, test_string)\n",
    "    if matches:\n",
    "      print(f\"{pattern:10} |{description:25}: {matches}\")\n",
    "  except re.error as e:\n",
    "    print(f\"Lỗi với pattern '{pattern}': {e}\") # In thông báo lỗi rõ ràng hơn"
   ]
  },
  {
   "cell_type": "code",
   "execution_count": null,
   "metadata": {
    "colab": {
     "base_uri": "https://localhost:8080/"
    },
    "id": "9OYRxYY5yc-S",
    "outputId": "d7358a19-73cd-478f-d314-1e5fa5e4f0ab"
   },
   "outputs": [
    {
     "name": "stdout",
     "output_type": "stream",
     "text": [
      "Kết quả validation:\n",
      "  ✓ phone: 0912345678 - Hợp lệ\n",
      "  ✓ email: customer@gmail.com - Hợp lệ\n",
      "  ✓ citizen_id: 123456789 - Hợp lệ\n",
      "  ✓ postal_code: 100000 - Hợp lệ\n",
      "  ✓ bank_account: 1234567890 - Hợp lệ\n"
     ]
    }
   ],
   "source": [
    "def validate_customer_data(data):\n",
    "    \"\"\"Validate thông tin khách hàng\"\"\"\n",
    "    validation_rules = {\n",
    "        'phone': r'^(0|\\+84)[0-9]{9}$',  # Số điện thoại Việt Nam\n",
    "        'email': r'^[a-zA-Z0-9._%+-]+@[a-zA-Z0-9.-]+\\.[a-zA-Z]{2,}$',\n",
    "        'citizen_id': r'^\\d{9}$|^\\d{12}$',  # CCCD 9 hoặc 12 số\n",
    "        'postal_code': r'^\\d{5}$|^\\d{6}$',  # Mã bưu điện\n",
    "        'bank_account': r'^\\d{10,20}$'  # Số tài khoản ngân hàng\n",
    "    }\n",
    "\n",
    "    results = {}\n",
    "    for field, pattern in validation_rules.items():\n",
    "        if field in data:\n",
    "            is_valid = bool(re.match(pattern, str(data[field])))\n",
    "            results[field] = {\n",
    "                'value': data[field],\n",
    "                'valid': is_valid,\n",
    "                'pattern': pattern\n",
    "            }\n",
    "\n",
    "    return results\n",
    "\n",
    "# Test validation\n",
    "customer_data = {\n",
    "    'phone': '0912345678',\n",
    "    'email': 'customer@gmail.com',\n",
    "    'citizen_id': '123456789',\n",
    "    'postal_code': '100000',\n",
    "    'bank_account': '1234567890'\n",
    "}\n",
    "\n",
    "validation_result = validate_customer_data(customer_data)\n",
    "print(\"Kết quả validation:\")\n",
    "for field, result in validation_result.items():\n",
    "    status = \"✓\" if result['valid'] else \"✗\"\n",
    "    print(f\"  {status} {field}: {result['value']} - {'Hợp lệ' if result['valid'] else 'Không hợp lệ'}\")"
   ]
  },
  {
   "cell_type": "code",
   "execution_count": null,
   "metadata": {
    "id": "wWQ2xm3sy9K0"
   },
   "outputs": [],
   "source": [
    "def analyze_web_logs(log_entries):\n",
    "    \"\"\"Phân tích log file web server\"\"\"\n",
    "\n",
    "    # Pattern cho Apache/Nginx log format\n",
    "    log_pattern = r'(\\d+\\.\\d+\\.\\d+\\.\\d+) - - \\[(.*?)\\] \"(.*?)\" (\\d+) (\\d+) \"(.*?)\" \"(.*?)\"'\n",
    "\n",
    "    parsed_logs = []\n",
    "\n",
    "    for log_entry in log_entries:\n",
    "        match = re.match(log_pattern, log_entry)\n",
    "        if match:\n",
    "            ip, timestamp, request, status_code, size, referer, user_agent = match.groups()\n",
    "\n",
    "            # Extract method và URL từ request\n",
    "            request_parts = request.split(' ')\n",
    "            method = request_parts[0] if len(request_parts) > 0 else ''\n",
    "            url = request_parts[1] if len(request_parts) > 1 else ''\n",
    "\n",
    "            parsed_logs.append({\n",
    "                'ip': ip,\n",
    "                'timestamp': timestamp,\n",
    "                'method': method,\n",
    "                'url': url,\n",
    "                'status_code': int(status_code),\n",
    "                'size': int(size) if size.isdigit() else 0,\n",
    "                'referer': referer,\n",
    "                'user_agent': user_agent\n",
    "            })\n",
    "\n",
    "    return parsed_logs\n",
    "\n",
    "# Sample log entries\n",
    "log_data = [\n",
    "    '192.168.1.100 - - [15/Jan/2024:10:30:45 +0700] \"GET /api/products HTTP/1.1\" 200 1234 \"https://company.com\" \"Mozilla/5.0\"',\n",
    "    '10.0.0.50 - - [15/Jan/2024:10:31:12 +0700] \"POST /api/orders HTTP/1.1\" 201 567 \"-\" \"Python-requests/2.28.1\"',\n",
    "    '192.168.1.200 - - [15/Jan/2024:10:32:00 +0700] \"GET /admin/dashboard HTTP/1.1\" 403 89 \"https://company.com/login\" \"Chrome/120.0\"'\n",
    "]\n",
    "\n",
    "analyzed_logs = analyze_web_logs(log_data)\n",
    "print(\"Phân tích log:\")\n",
    "for log in analyzed_logs:\n",
    "    print(f\"  IP: {log['ip']}, Method: {log['method']}, URL: {log['url']}, Status: {log['status_code']}\")"
   ]
  },
  {
   "cell_type": "markdown",
   "metadata": {
    "id": "bbkvS3DIxaX_"
   },
   "source": [
    "| Ký tự | Ý nghĩa                             | Ví dụ (Regex)     | Khớp với                     |\n",
    "|-------|-------------------------------------|-------------------|------------------------------|\n",
    "| `.`   | Bất kỳ ký tự nào (trừ dòng mới)     | `a.c`             | `abc`, `axc`, `a7c`         |\n",
    "| `^`   | Bắt đầu chuỗi                       | `^Hello`          | `Hello world`, không khớp `Say Hello` |\n",
    "| `$`   | Kết thúc chuỗi                      | `world$`          | `Hello world`               |\n",
    "| `*`   | 0 hoặc nhiều lần                    | `lo*l`            | `ll`, `lol`, `loool`        |\n",
    "| `+`   | 1 hoặc nhiều lần                    | `lo+l`            | `lol`, `lool`               |\n",
    "| `?`   | 0 hoặc 1 lần                        | `colou?r`         | `color`, `colour`           |\n",
    "| `[]`  | Một trong các ký tự trong ngoặc     | `[aeiou]`         | `a`, `e`, `i`, `o`, `u`     |\n",
    "| `[^]` | Ngoại trừ ký tự trong ngoặc         | `[^0-9]`          | Bất kỳ ký tự không phải số  |\n",
    "| `|`   | Hoặc                                | `cat|dog`         | `cat`, `dog`                |\n",
    "| `()`  | Nhóm biểu thức                     | `(ab)+`           | `ab`, `abab`, `ababab`      |"
   ]
  },
  {
   "cell_type": "markdown",
   "metadata": {
    "id": "jQr-sOh9yLvg"
   },
   "source": [
    "| Ký tự | Ý nghĩa                             | Ví dụ (Regex)     | Khớp với                     |\n",
    "|-------|-------------------------------------|-------------------|------------------------------|\n",
    "| `{n}` | Lặp đúng `n` lần                   | `a{3}`            | `aaa`                       |\n",
    "| `{n,}`| Lặp ít nhất `n` lần                | `a{2,}`           | `aa`, `aaa`, `aaaa...`      |\n",
    "| `{n,m}`| Lặp từ `n` đến `m` lần            | `a{2,4}`          | `aa`, `aaa`, `aaaa`         |\n",
    "| `\\`   | Escape ký tự đặc biệt              | `\\.`              | `.` (dấu chấm thật sự)      |\n",
    "| `\\d`  | Một chữ số (digit)                 | `\\d+`             | `123`, `42`                 |\n",
    "| `\\D`  | Không phải chữ số                  | `\\D+`             | `abc`, `XYZ`                |\n",
    "| `\\w`  | Ký tự từ (chữ cái, số, gạch dưới)  | `\\w+`             | `hello123`, `_name`         |\n",
    "| `\\W`  | Không phải ký tự từ                | `\\W+`             | `!@#`, ` ` (dấu cách)       |\n",
    "| `\\s`  | Khoảng trắng                        | `\\s+`             | dấu cách, tab, xuống dòng   |\n",
    "| `\\S`  | Không phải khoảng trắng             | `\\S+`             | `text`, `123`               |\n"
   ]
  }
 ],
 "metadata": {
  "colab": {
   "provenance": []
  },
  "kernelspec": {
   "display_name": "Python 3",
   "name": "python3"
  },
  "language_info": {
   "name": "python"
  }
 },
 "nbformat": 4,
 "nbformat_minor": 0
}
