{
 "cells": [
  {
   "cell_type": "code",
   "id": "initial_id",
   "metadata": {
    "collapsed": true,
    "ExecuteTime": {
     "end_time": "2025-06-19T06:53:53.133095Z",
     "start_time": "2025-06-19T06:53:53.124454Z"
    }
   },
   "source": [
    "# Bài 6: Tính điểm trung bình sinh viên\n",
    "# Viết hàm diem_trung_binh(diem_dict) với input là dict {ten: (toan, ly, hoa)}. Trả về dict {ten: diem_tb}.\n",
    "def diem_trung_binh(diem_dict):\n",
    "    for key, value in diem_dict.items():\n",
    "        tb = (value['toan']+value['ly']+value['hoa'])/3\n",
    "        diem_dict[key]['diem_tb'] = tb\n",
    "    return diem_dict\n",
    "diem_dict = {'Dinh':{'toan':8,'ly':9,'hoa':10},\n",
    "             'Minh':{'toan':10,'ly':9,'hoa':10},\n",
    "             'Duy':{'toan':9,'ly':9,'hoa':10}}\n",
    "update_diem = diem_trung_binh(diem_dict)\n",
    "print(update_diem)"
   ],
   "outputs": [
    {
     "name": "stdout",
     "output_type": "stream",
     "text": [
      "{'Dinh': {'toan': 8, 'ly': 9, 'hoa': 10, 'diem_tb': 9.0}, 'Minh': {'toan': 10, 'ly': 9, 'hoa': 10, 'diem_tb': 9.666666666666666}, 'Duy': {'toan': 9, 'ly': 9, 'hoa': 10, 'diem_tb': 9.333333333333334}}\n"
     ]
    }
   ],
   "execution_count": 2
  },
  {
   "metadata": {
    "ExecuteTime": {
     "end_time": "2025-06-19T06:56:07.634558Z",
     "start_time": "2025-06-19T06:56:07.622296Z"
    }
   },
   "cell_type": "code",
   "source": [
    "# Bài 2: Tìm sinh viên có điểm cao nhất\n",
    "# Viết hàm sinh_vien_gioi(diem_dict) trả về tên sinh viên có điểm trung bình cao nhất.\n",
    "def diem_trung_binh(diem_dict):\n",
    "    sv_gioi = ''\n",
    "    max_diem = -1\n",
    "    for key, value in diem_dict.items():\n",
    "        tb = (value['toan']+value['ly']+value['hoa'])/3\n",
    "        if tb>max_diem:\n",
    "            max_diem = tb\n",
    "            sv_gioi = key\n",
    "\n",
    "    return sv_gioi\n",
    "diem_dict = {'Dinh':{'toan':8,'ly':9,'hoa':10},\n",
    "             'Minh':{'toan':10,'ly':9,'hoa':10},\n",
    "             'Duy':{'toan':9,'ly':9,'hoa':10}}\n",
    "print(diem_trung_binh(diem_dict))"
   ],
   "id": "66f364505ecf2357",
   "outputs": [
    {
     "name": "stdout",
     "output_type": "stream",
     "text": [
      "Minh\n"
     ]
    }
   ],
   "execution_count": 1
  },
  {
   "metadata": {
    "ExecuteTime": {
     "end_time": "2025-06-19T07:38:26.852674Z",
     "start_time": "2025-06-19T07:38:26.844140Z"
    }
   },
   "cell_type": "code",
   "source": [
    "# Bài 9: Đếm số lần xuất hiện các phần tử trong tuple\n",
    "# Viết hàm dem_tan_so(t) nhận vào một tuple và trả về dict đếm số lần xuất hiện của từng phần tử.\n",
    "def dem_tan_so(t):\n",
    "    ket_qua = {}\n",
    "    for phan_tu in t:\n",
    "        if phan_tu in ket_qua:\n",
    "            ket_qua[phan_tu] = ket_qua[phan_tu] + 1\n",
    "        else:\n",
    "            ket_qua[phan_tu] = 1\n",
    "    return ket_qua\n",
    "t = (1, 2, 2, 3, 1)\n",
    "print(dem_tan_so(t))"
   ],
   "id": "ebd0b02b2350dd40",
   "outputs": [
    {
     "name": "stdout",
     "output_type": "stream",
     "text": [
      "{1: 2, 2: 2, 3: 1}\n"
     ]
    }
   ],
   "execution_count": 3
  },
  {
   "metadata": {
    "ExecuteTime": {
     "end_time": "2025-06-19T07:43:55.424722Z",
     "start_time": "2025-06-19T07:43:55.417507Z"
    }
   },
   "cell_type": "code",
   "source": [
    "# Bài 3: Lọc dict theo điều kiện\n",
    "# Viết hàm loc_dict(d, threshold) nhận vào dict {ten: diem} và trả về dict mới chỉ chứa sinh viên có điểm > threshold.\n",
    "def loc_dict(d, threshold):\n",
    "    ket_qua = {}\n",
    "    for ten, diem in d.items():\n",
    "        if diem > threshold:\n",
    "            ket_qua[ten] = diem\n",
    "    return ket_qua\n",
    "d = {\"An\": 8, \"Bình\": 5, \"Cường\": 7}\n",
    "print(loc_dict(d, 6))"
   ],
   "id": "964d893fa73d10b8",
   "outputs": [
    {
     "name": "stdout",
     "output_type": "stream",
     "text": [
      "{'An': 8, 'Cường': 7}\n"
     ]
    }
   ],
   "execution_count": 4
  },
  {
   "metadata": {
    "ExecuteTime": {
     "end_time": "2025-06-19T07:44:55.302099Z",
     "start_time": "2025-06-19T07:44:55.293122Z"
    }
   },
   "cell_type": "code",
   "source": [
    "# Bài 4: Chuyển dict thành list mô tả\n",
    "# Viết hàm mo_ta_dict(d) với d là dict {id: (name, age)}, trả về list các chuỗi \"ID: id - Name: name - Age: age\".\n",
    "def mo_ta_dict(d):\n",
    "    ket_qua = []\n",
    "    for id, (name, age) in d.items():\n",
    "        chuoi = f\"ID: {id} - Name: {name} - Age: {age}\"\n",
    "        ket_qua.append(chuoi)\n",
    "    return ket_qua\n",
    "d = {1: (\"An\", 20), 2: (\"Bình\", 22)}\n",
    "print(mo_ta_dict(d))"
   ],
   "id": "484646590a31cb0a",
   "outputs": [
    {
     "name": "stdout",
     "output_type": "stream",
     "text": [
      "['ID: 1 - Name: An - Age: 20', 'ID: 2 - Name: Bình - Age: 22']\n"
     ]
    }
   ],
   "execution_count": 5
  },
  {
   "metadata": {
    "ExecuteTime": {
     "end_time": "2025-06-19T07:48:06.935925Z",
     "start_time": "2025-06-19T07:48:06.927883Z"
    }
   },
   "cell_type": "code",
   "source": [
    "# Bai5: Phân nhóm học sinh theo lớp\n",
    "# Yêu cầu: Viết hàm phan_nhom(ds_hs) nhận vào danh sách các tuple (ten, lop) và trả về dict {lop: [ten1, ten2, ...]}.\n",
    "#\n",
    "# def phan_nhom(ds_hs):\n",
    "#     \"\"\"\n",
    "#     Input: [('An', '10A'), ('Bình', '10A'), ('Hà', '10B')]\n",
    "#     Output: {'10A': ['An', 'Bình'], '10B': ['Hà']}\n",
    "def phan_nhom(ds_hs):\n",
    "    ket_qua = {}\n",
    "    for ten, lop in ds_hs:\n",
    "        if lop in ket_qua:\n",
    "            ket_qua[lop].append(ten)\n",
    "        else:\n",
    "            ket_qua[lop] = [ten]\n",
    "    return ket_qua\n",
    "ds_hs = [('An', '10A'), ('Bình', '10A'), ('Hà', '10B')]\n",
    "print(phan_nhom(ds_hs))"
   ],
   "id": "a86d85d9a26a43f",
   "outputs": [
    {
     "name": "stdout",
     "output_type": "stream",
     "text": [
      "{'10A': ['An', 'Bình'], '10B': ['Hà']}\n"
     ]
    }
   ],
   "execution_count": 6
  },
  {
   "metadata": {
    "ExecuteTime": {
     "end_time": "2025-06-19T07:49:34.018929Z",
     "start_time": "2025-06-19T07:49:34.009981Z"
    }
   },
   "cell_type": "code",
   "source": [
    "# Bai 6  Phân loại điểm học sinh\n",
    "# Yêu cầu: Viết hàm phan_loai_diem(ds) nhận danh sách tuple (ten, diem) và trả về dict {XepLoai: [ten1, ten2...]} với điều kiện:\n",
    "#\n",
    "# Giỏi: >= 8\n",
    "#\n",
    "# Khá: 6.5 - 7.9\n",
    "#\n",
    "# Trung bình: 5 - 6.4\n",
    "#\n",
    "# Yếu: < 5\n",
    "def phan_loai_diem(ds):\n",
    "    ket_qua = {\n",
    "        \"Giỏi\": [],\n",
    "        \"Khá\": [],\n",
    "        \"Trung bình\": [],\n",
    "        \"Yếu\": []\n",
    "    }\n",
    "    for ten, diem in ds:\n",
    "        if diem >= 8:\n",
    "            ket_qua[\"Giỏi\"].append(ten)\n",
    "        elif 6.5 <= diem <= 7.9:\n",
    "            ket_qua[\"Khá\"].append(ten)\n",
    "        elif 5 <= diem <= 6.4:\n",
    "            ket_qua[\"Trung bình\"].append(ten)\n",
    "        else:\n",
    "            ket_qua[\"Yếu\"].append(ten)\n",
    "    return ket_qua\n",
    "ds = [(\"An\", 8.5), (\"Bình\", 7.0), (\"Cường\", 5.5), (\"Hà\", 4.0)]\n",
    "print(phan_loai_diem(ds))"
   ],
   "id": "dc3350d1ebdf9543",
   "outputs": [
    {
     "name": "stdout",
     "output_type": "stream",
     "text": [
      "{'Giỏi': ['An'], 'Khá': ['Bình'], 'Trung bình': ['Cường'], 'Yếu': ['Hà']}\n"
     ]
    }
   ],
   "execution_count": 7
  },
  {
   "metadata": {
    "ExecuteTime": {
     "end_time": "2025-06-19T07:51:11.020265Z",
     "start_time": "2025-06-19T07:51:11.013004Z"
    }
   },
   "cell_type": "code",
   "source": [
    "# Bai 7 Đếm số sinh viên mỗi lớp từ dict\n",
    "# Yêu cầu: Cho dict {ten: (tuoi, lop)}. Viết hàm dem_theo_lop(d) trả về dict {lop: so_luong}.\n",
    "def dem_theo_lop(d):\n",
    "    ket_qua = {}\n",
    "    for ten, (tuoi, lop) in d.items():\n",
    "        if lop in ket_qua:\n",
    "            ket_qua[lop] = ket_qua[lop] + 1\n",
    "        else:\n",
    "            ket_qua[lop] = 1\n",
    "    return ket_qua\n",
    "d = {\"An\": (15, \"10A\"), \"Bình\": (16, \"10A\"), \"Hà\": (15, \"10B\")}\n",
    "print(dem_theo_lop(d))"
   ],
   "id": "545846314d1da41c",
   "outputs": [
    {
     "name": "stdout",
     "output_type": "stream",
     "text": [
      "{'10A': 2, '10B': 1}\n"
     ]
    }
   ],
   "execution_count": 8
  }
 ],
 "metadata": {
  "kernelspec": {
   "display_name": "Python 3",
   "language": "python",
   "name": "python3"
  },
  "language_info": {
   "codemirror_mode": {
    "name": "ipython",
    "version": 2
   },
   "file_extension": ".py",
   "mimetype": "text/x-python",
   "name": "python",
   "nbconvert_exporter": "python",
   "pygments_lexer": "ipython2",
   "version": "2.7.6"
  }
 },
 "nbformat": 4,
 "nbformat_minor": 5
}
