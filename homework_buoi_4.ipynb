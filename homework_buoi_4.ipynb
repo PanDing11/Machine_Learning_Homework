{
 "cells": [
  {
   "cell_type": "code",
   "id": "initial_id",
   "metadata": {
    "collapsed": true,
    "ExecuteTime": {
     "end_time": "2025-06-02T00:54:46.790103Z",
     "start_time": "2025-06-02T00:54:43.086030Z"
    }
   },
   "source": [
    "# 1. In độ dài của chuỗi Viết chương trình in ra độ dài của một chuỗi nhập vào. Cơ bản Input: \"Hello\" → Output: 5\n",
    "string = input(\"Input:\")\n",
    "print(\"'\"+string+\"'\", 'có độ dài',len(string))"
   ],
   "outputs": [
    {
     "name": "stdout",
     "output_type": "stream",
     "text": [
      "'phan dinh' có độ dài 9\n"
     ]
    }
   ],
   "execution_count": 5
  },
  {
   "metadata": {
    "ExecuteTime": {
     "end_time": "2025-06-02T00:56:20.877524Z",
     "start_time": "2025-06-02T00:56:16.403549Z"
    }
   },
   "cell_type": "code",
   "source": [
    "# 2. Chuyển chuỗi thành chữ hoa Chuyển toàn bộ chuỗi thành chữ hoa. Cơ bản Input: \"hello world\" → Output: \"HELLO WORLD\"\n",
    "string = input(\"Input:\")\n",
    "print(string, '->', string.upper())"
   ],
   "id": "72d727f308fcb4c0",
   "outputs": [
    {
     "name": "stdout",
     "output_type": "stream",
     "text": [
      "phan van dinh -> PHAN VAN DINH\n"
     ]
    }
   ],
   "execution_count": 7
  },
  {
   "metadata": {
    "ExecuteTime": {
     "end_time": "2025-06-02T01:02:08.020309Z",
     "start_time": "2025-06-02T01:02:02.581466Z"
    }
   },
   "cell_type": "code",
   "source": [
    "# 3. Chuyển chuỗi thành chữ thường Chuyển toàn bộ chuỗi thành chữ thường. Cơ bản Input: \"HELLO WORLD\" → Output: \"hello world\"\n",
    "string = input(\"Input:\")\n",
    "print(string, '->', string.lower())"
   ],
   "id": "6fd7be46f6642417",
   "outputs": [
    {
     "name": "stdout",
     "output_type": "stream",
     "text": [
      "phan van dinH -> phan van dinh\n",
      "H\n"
     ]
    }
   ],
   "execution_count": 9
  },
  {
   "metadata": {
    "ExecuteTime": {
     "end_time": "2025-06-02T01:08:58.024558Z",
     "start_time": "2025-06-02T01:08:53.277290Z"
    }
   },
   "cell_type": "code",
   "source": [
    "# 4. Đếm số ký tự trong chuỗi Đếm số lần xuất hiện của một ký tự trong chuỗi. Cơ bản Input: \"hello\", ký tự \"l\" → Output: 2\n",
    "string = input(\"Input:\")\n",
    "print(string)\n",
    "\n",
    "# for i in range(0,len(string)):\n",
    "#     count = 0\n",
    "#     for j in range(0,len(string)):\n",
    "#         if string[i] == string[j]:\n",
    "#             count+=1\n",
    "#     print(string[i], 'xuất hiện', count)\n",
    "\n",
    "for item in string:\n",
    "    print(item, 'xuất hiện', string.count(item))"
   ],
   "id": "29c1e7f85f560db0",
   "outputs": [
    {
     "name": "stdout",
     "output_type": "stream",
     "text": [
      "phan van dinh\n",
      "p xuất hiện 1\n",
      "h xuất hiện 2\n",
      "a xuất hiện 2\n",
      "n xuất hiện 3\n",
      "  xuất hiện 2\n",
      "v xuất hiện 1\n",
      "a xuất hiện 2\n",
      "n xuất hiện 3\n",
      "  xuất hiện 2\n",
      "d xuất hiện 1\n",
      "i xuất hiện 1\n",
      "n xuất hiện 3\n",
      "h xuất hiện 2\n"
     ]
    }
   ],
   "execution_count": 14
  },
  {
   "metadata": {
    "ExecuteTime": {
     "end_time": "2025-06-02T01:10:43.702187Z",
     "start_time": "2025-06-02T01:10:42.431194Z"
    }
   },
   "cell_type": "code",
   "source": [
    "# 5. Kiểm tra chuỗi rỗng Kiểm tra xem một chuỗi có rỗng hay không. Cơ bản Input: \"\" → Output: \"Chuỗi rỗng\"\n",
    "string = input(\"Input:\")\n",
    "if not string:\n",
    "    print('Chuỗi rỗng')\n",
    "else:\n",
    "    print(string)\n",
    "    print('Chuỗi không rỗng')"
   ],
   "id": "ad10fd6bdf3c8813",
   "outputs": [
    {
     "name": "stdout",
     "output_type": "stream",
     "text": [
      "a\n",
      "Chuỗi không rỗng\n"
     ]
    }
   ],
   "execution_count": 16
  },
  {
   "metadata": {
    "ExecuteTime": {
     "end_time": "2025-06-02T01:12:34.525762Z",
     "start_time": "2025-06-02T01:12:30.550877Z"
    }
   },
   "cell_type": "code",
   "source": [
    "# 6. Đảo ngược chuỗi Đảo ngược một chuỗi và in ra kết quả. Cơ bản Input: \"Python\" → Output: \"nohtyP\"\n",
    "string = input(\"Input:\")\n",
    "print(string, '->', string[::-1])"
   ],
   "id": "858a3f94f91911aa",
   "outputs": [
    {
     "name": "stdout",
     "output_type": "stream",
     "text": [
      "phan van dinh -> hnid nav nahp\n"
     ]
    }
   ],
   "execution_count": 19
  },
  {
   "metadata": {
    "ExecuteTime": {
     "end_time": "2025-06-02T01:25:42.129807Z",
     "start_time": "2025-06-02T01:25:34.243342Z"
    }
   },
   "cell_type": "code",
   "source": [
    "# 7. Kiểm tra chuỗi bắt đầu bằng Kiểm tra xem chuỗi có bắt đầu bằng một chuỗi con cho trước hay không. Cơ bản Input: \"Hello World\", \"Hello\" → Output: True\n",
    "string = input(\"Input:\")\n",
    "chain = input(\"Input:\")\n",
    "if chain in string:\n",
    "    print(True)\n",
    "else:\n",
    "    print(False)\n"
   ],
   "id": "5f7f3561690d76d7",
   "outputs": [
    {
     "name": "stdout",
     "output_type": "stream",
     "text": [
      "True\n"
     ]
    }
   ],
   "execution_count": 21
  },
  {
   "metadata": {
    "ExecuteTime": {
     "end_time": "2025-06-02T01:29:06.520050Z",
     "start_time": "2025-06-02T01:28:59.095295Z"
    }
   },
   "cell_type": "code",
   "source": [
    "# 8. Kiểm tra chuỗi kết thúc bằng Kiểm tra xem chuỗi có kết thúc bằng một chuỗi con cho trước hay không. Cơ bản Input: \"Hello World\", \"World\" → Output: True\n",
    "string = input(\"Input:\")\n",
    "chain = input(\"Input:\")\n",
    "if chain == string.split()[-1]:\n",
    "    print(True)\n",
    "else:\n",
    "    print(False)"
   ],
   "id": "a896e937a99bf27e",
   "outputs": [
    {
     "name": "stdout",
     "output_type": "stream",
     "text": [
      "True\n"
     ]
    }
   ],
   "execution_count": 23
  },
  {
   "metadata": {
    "ExecuteTime": {
     "end_time": "2025-06-02T09:20:37.103770Z",
     "start_time": "2025-06-02T09:20:28.168617Z"
    }
   },
   "cell_type": "code",
   "source": [
    "# 9. Thay thế một chuỗi con trong chuỗi bằng một chuỗi khác. Cơ bản Input: \"I like Python\", \"like\", \"love\" → Output: \"I love Python\"\n",
    "string = input(\"Input:\")\n",
    "chain = input(\"Input:\")\n",
    "string_other = input(\"Input:\")\n",
    "\n",
    "result = string.replace(chain, string_other)\n",
    "print(result)"
   ],
   "id": "9abc47e4d686e7af",
   "outputs": [
    {
     "name": "stdout",
     "output_type": "stream",
     "text": [
      "i hate you\n"
     ]
    }
   ],
   "execution_count": 36
  },
  {
   "metadata": {
    "ExecuteTime": {
     "end_time": "2025-06-05T09:01:27.893685Z",
     "start_time": "2025-06-05T09:01:18.622828Z"
    }
   },
   "cell_type": "code",
   "source": [
    "# 10. Tách chuỗi thành danh sách Tách một chuỗi thành danh sách các từ dựa trên khoảng trắng. Cơ bản Input: \"Hello World Python\" → Output: [\"Hello\", \"World\", \"Python\"]\n",
    "string = input(\"Input:\")\n",
    "print(string.split(\" \"))"
   ],
   "id": "84b76ca4d19cf8c7",
   "outputs": [
    {
     "name": "stdout",
     "output_type": "stream",
     "text": [
      "['hello', 'world', 'my', 'name', 'is', 'dinh']\n"
     ]
    }
   ],
   "execution_count": 2
  },
  {
   "metadata": {
    "ExecuteTime": {
     "end_time": "2025-06-05T09:03:42.836933Z",
     "start_time": "2025-06-05T09:03:34.293280Z"
    }
   },
   "cell_type": "code",
   "source": [
    "\n",
    "#\n",
    "# # Example\n",
    "# words = [\"Hello\", \"World\"]\n",
    "# print(join_words(words))  # Output: Hello World\n",
    "\n",
    "# # 13. Kiểm tra chuỗi chỉ có chữ Kiểm tra xem chuỗi chỉ chứa các ký tự chữ cái hay không. Cơ bản Input: \"Hello\" → Output: True; Input: \"Hello123\" → Output: False\n",
    "# def is_alpha_only(text):\n",
    "#     return text.isalpha()\n",
    "#\n",
    "# # Examples\n",
    "# print(is_alpha_only(\"Hello\"))     # Output: True\n",
    "# print(is_alpha_only(\"Hello123\"))  # Output: False\n",
    "# # 14. Kiểm tra chuỗi chỉ có số Kiểm tra xem chuỗi chỉ chứa các ký tự số hay không. Cơ bản Input: \"12345\" → Output: True; Input: \"123abc\" → Output: False\n",
    "# def is_digit_only(text):\n",
    "#     return text.isdigit()\n",
    "#\n",
    "# # Examples\n",
    "# print(is_digit_only(\"12345\"))   # Output: True\n",
    "# print(is_digit_only(\"123abc\"))  # Output: False\n",
    "# # 15. Cắt chuỗi theo chỉ số Cắt một phần của chuỗi từ chỉ số bắt đầu đến chỉ số kết thúc. Cơ bản Input: \"Hello World\", 0, 5 → Output: \"Hello\"\n",
    "# def slice_string(text, start, end):\n",
    "#     return text[start:end]\n",
    "#\n",
    "# # Example\n",
    "# print(slice_string(\"Hello World\", 0, 5))  # Output: Hello\n",
    "# # 16. Đếm số từ trong chuỗi Đếm số từ trong một chuỗi (các từ cách nhau bởi khoảng trắng). Cơ bản Input: \"I love Python\" → Output: 3\n",
    "# def count_words(text):\n",
    "#     return len(text.split())\n",
    "#\n",
    "# # Example\n",
    "# print(count_words(\"I love Python\"))  # Output: 3\n",
    "# # 17. Xóa khoảng trắng thừa Xóa khoảng trắng thừa ở đầu và cuối chuỗi. Cơ bản Input: \"  Hello World  \" → Output: \"Hello World\"\n",
    "# def trim_whitespace(text):\n",
    "#     return text.strip()\n",
    "#\n",
    "# # Example\n",
    "# print(trim_whitespace(\"  Hello World  \"))  # Output: Hello World\n",
    "# # 18. Xóa ký tự đầu tiên và cuối Xóa ký tự đầu tiên và cuối cùng của chuỗi. Cơ bản Input: \"Hello\" → Output: \"ell\".\n",
    "# def remove_first_last(text):\n",
    "#     if len(text) <= 2:\n",
    "#         return \"\"\n",
    "#     return text[1:-1]\n",
    "#\n",
    "# # Example\n",
    "# print(remove_first_last(\"Hello\"))  # Output: ell"
   ],
   "id": "8499774ee0dc75b1",
   "outputs": [
    {
     "name": "stdout",
     "output_type": "stream",
     "text": [
      "<map object at 0x000001CF46D3A680>\n"
     ]
    },
    {
     "ename": "AttributeError",
     "evalue": "'map' object has no attribute 'join'",
     "output_type": "error",
     "traceback": [
      "\u001B[31m---------------------------------------------------------------------------\u001B[39m",
      "\u001B[31mAttributeError\u001B[39m                            Traceback (most recent call last)",
      "\u001B[36mCell\u001B[39m\u001B[36m \u001B[39m\u001B[32mIn[3]\u001B[39m\u001B[32m, line 6\u001B[39m\n\u001B[32m      4\u001B[39m string = \u001B[38;5;28mmap\u001B[39m(string, \u001B[38;5;28minput\u001B[39m(\u001B[33m\"\u001B[39m\u001B[33mInput:\u001B[39m\u001B[33m\"\u001B[39m).split(\u001B[33m\"\u001B[39m\u001B[33m \u001B[39m\u001B[33m\"\u001B[39m))\n\u001B[32m      5\u001B[39m \u001B[38;5;28mprint\u001B[39m(string)\n\u001B[32m----> \u001B[39m\u001B[32m6\u001B[39m \u001B[38;5;28mprint\u001B[39m(\u001B[43mstring\u001B[49m\u001B[43m.\u001B[49m\u001B[43mjoin\u001B[49m(string))\n\u001B[32m      7\u001B[39m \u001B[38;5;66;03m#\u001B[39;00m\n\u001B[32m      8\u001B[39m \u001B[38;5;66;03m# # Example\u001B[39;00m\n\u001B[32m      9\u001B[39m \u001B[38;5;66;03m# words = [\"Hello\", \"World\"]\u001B[39;00m\n\u001B[32m   (...)\u001B[39m\u001B[32m     56\u001B[39m \u001B[38;5;66;03m# # Example\u001B[39;00m\n\u001B[32m     57\u001B[39m \u001B[38;5;66;03m# print(remove_first_last(\"Hello\"))  # Output: ell\u001B[39;00m\n",
      "\u001B[31mAttributeError\u001B[39m: 'map' object has no attribute 'join'"
     ]
    }
   ],
   "execution_count": 3
  },
  {
   "metadata": {
    "ExecuteTime": {
     "end_time": "2025-06-05T09:50:18.040242Z",
     "start_time": "2025-06-05T09:50:11.503080Z"
    }
   },
   "cell_type": "code",
   "source": [
    "# 11. Nối các từ thành chuỗi Nối các từ trong danh sách thành một chuỗi, cách nhau bởi khoảng trắng. Cơ bản Input: [\"Hello\", \"World\"] → Output: \"Hello World\"\n",
    "# def join_words(words):\n",
    "#     return \" \".join(words)\n",
    "list_char = list(map(str, input(\"Input:\").split(\" \")))\n",
    "print(list_char)\n",
    "print(\" \".join(list_char))"
   ],
   "id": "6fbdc02871d75c76",
   "outputs": [
    {
     "name": "stdout",
     "output_type": "stream",
     "text": [
      "['phan', 'van', 'dinh']\n",
      "phan van dinh\n"
     ]
    }
   ],
   "execution_count": 10
  },
  {
   "metadata": {
    "ExecuteTime": {
     "end_time": "2025-06-05T10:50:51.957346Z",
     "start_time": "2025-06-05T10:50:50.354572Z"
    }
   },
   "cell_type": "code",
   "source": [
    "# 12. Kiểm tra xem chuỗi có chứa số hay không. Cơ bản Input: \"Hello123\" → Output: True\n",
    "input_string = (input(\"Input:\"))\n",
    "check_num = False\n",
    "for item in input_string:\n",
    "    if item.isdigit():\n",
    "        check_num = True\n",
    "        break\n",
    "print(check_num)"
   ],
   "id": "11f9ce4bc762572e",
   "outputs": [
    {
     "name": "stdout",
     "output_type": "stream",
     "text": [
      "True\n"
     ]
    }
   ],
   "execution_count": 22
  },
  {
   "metadata": {
    "ExecuteTime": {
     "end_time": "2025-06-05T10:51:09.762899Z",
     "start_time": "2025-06-05T10:51:04.654762Z"
    }
   },
   "cell_type": "code",
   "source": [
    "# 13. Kiểm tra chuỗi chỉ có chữ Kiểm tra xem chuỗi chỉ chứa các ký tự chữ cái hay không. Cơ bản Input: \"Hello\" → Output: True; Input: \"Hello123\" → Output: False\n",
    "input_string = (input(\"Input:\"))\n",
    "check_char = False\n",
    "for item in input_string:\n",
    "    if item.isalpha():\n",
    "        check_num = True\n",
    "print(check_char)"
   ],
   "id": "f698821221bf29d5",
   "outputs": [
    {
     "name": "stdout",
     "output_type": "stream",
     "text": [
      "False\n"
     ]
    }
   ],
   "execution_count": 23
  },
  {
   "metadata": {},
   "cell_type": "code",
   "outputs": [],
   "execution_count": null,
   "source": [
    "# 14. Kiểm tra chuỗi chỉ có số Kiểm tra xem chuỗi chỉ chứa các ký tự số hay không. Cơ bản Input: \"12345\" → Output: True; Input: \"123abc\" → Output: False\n",
    "input_string = (input(\"Input:\"))\n",
    "check_num = False\n",
    "for item in input_string:\n",
    "    if item.isdigit():\n",
    "        check_num = True\n",
    "        break\n",
    "print(check_num)"
   ],
   "id": "d44a227773ce0757"
  },
  {
   "metadata": {
    "ExecuteTime": {
     "end_time": "2025-06-05T10:55:43.806582Z",
     "start_time": "2025-06-05T10:55:38.664837Z"
    }
   },
   "cell_type": "code",
   "source": [
    "# 15. Cắt chuỗi theo chỉ số Cắt một phần của chuỗi từ chỉ số bắt đầu đến chỉ số kết thúc. Cơ bản Input: \"Hello World\", 0, 5 → Output: \"Hello\"\n",
    "input_string = (input(\"Input:\"))\n",
    "print(input_string[0:5])"
   ],
   "id": "109c0611e2128a13",
   "outputs": [
    {
     "name": "stdout",
     "output_type": "stream",
     "text": [
      "hello\n"
     ]
    }
   ],
   "execution_count": 24
  },
  {
   "metadata": {
    "ExecuteTime": {
     "end_time": "2025-06-05T11:07:58.816029Z",
     "start_time": "2025-06-05T11:07:54.078580Z"
    }
   },
   "cell_type": "code",
   "source": [
    "# 16. Đếm số từ trong chuỗi Đếm số từ trong một chuỗi (các từ cách nhau bởi khoảng trắng). Cơ bản Input: \"I love Python\" → Output: 3\n",
    "input_string = input(\"Input: \")\n",
    "word_count = len(input_string.split())\n",
    "print(\"Output:\", word_count)\n"
   ],
   "id": "4559309418f71818",
   "outputs": [
    {
     "name": "stdout",
     "output_type": "stream",
     "text": [
      "Output: 3\n"
     ]
    }
   ],
   "execution_count": 25
  },
  {
   "metadata": {
    "ExecuteTime": {
     "end_time": "2025-06-05T11:08:49.135846Z",
     "start_time": "2025-06-05T11:08:43.437588Z"
    }
   },
   "cell_type": "code",
   "source": [
    "# 17. Xóa khoảng trắng thừa Xóa khoảng trắng thừa ở đầu và cuối chuỗi. Cơ bản Input: \"  Hello World  \" → Output: \"Hello World\"\n",
    "input_string = input(\"Input: \")\n",
    "trimmed_string = input_string.strip()\n",
    "print(\"Output:\", trimmed_string)\n"
   ],
   "id": "51b97c9dcf329bc4",
   "outputs": [
    {
     "name": "stdout",
     "output_type": "stream",
     "text": [
      "Output: hi hi\n"
     ]
    }
   ],
   "execution_count": 26
  },
  {
   "metadata": {
    "ExecuteTime": {
     "end_time": "2025-06-05T11:09:32.071802Z",
     "start_time": "2025-06-05T11:09:27.751986Z"
    }
   },
   "cell_type": "code",
   "source": [
    "#18. Xóa ký tự đầu tiên và cuối Xóa ký tự đầu tiên và cuối cùng của chuỗi. Cơ bản Input: \"Hello\" → Output: \"ell\".\n",
    "input_string = input(\"Input: \")\n",
    "new_string = input_string[1:-1]\n",
    "print(\"Output:\", new_string)\n"
   ],
   "id": "a2df3d90fde892f7",
   "outputs": [
    {
     "name": "stdout",
     "output_type": "stream",
     "text": [
      "Output: ieh\n"
     ]
    }
   ],
   "execution_count": 27
  }
 ],
 "metadata": {
  "kernelspec": {
   "display_name": "Python 3",
   "language": "python",
   "name": "python3"
  },
  "language_info": {
   "codemirror_mode": {
    "name": "ipython",
    "version": 2
   },
   "file_extension": ".py",
   "mimetype": "text/x-python",
   "name": "python",
   "nbconvert_exporter": "python",
   "pygments_lexer": "ipython2",
   "version": "2.7.6"
  }
 },
 "nbformat": 4,
 "nbformat_minor": 5
}
