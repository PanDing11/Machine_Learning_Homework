{
 "cells": [
  {
   "cell_type": "code",
   "id": "initial_id",
   "metadata": {
    "collapsed": true,
    "ExecuteTime": {
     "end_time": "2025-06-16T10:26:12.666753Z",
     "start_time": "2025-06-16T10:26:12.660481Z"
    }
   },
   "source": [
    "# 1. Kiểm tra tuple lồng nhau\n",
    "# Viết hàm kiểm tra xem một tuple có chứa tuple con (nested tuple) hay không. Nếu có, trả về độ sâu lớn nhất của các tuple lồng nhau.\n",
    "# Ví dụ: t = (1, (2, (3, 4), 5), 6) → độ sâu = 3.\n",
    "#\n",
    "t = (1, (2, (3, 4), 5), 6)\n",
    "stack = [t]\n",
    "depth = 0\n",
    "\n",
    "while stack:\n",
    "    current = stack.pop(0)\n",
    "    depth += 1\n",
    "    for item in current:\n",
    "        if type(item) is tuple:\n",
    "            stack.append(item)\n",
    "\n",
    "print(f\"Độ sâu của {t}: {depth}\")\n"
   ],
   "outputs": [
    {
     "name": "stdout",
     "output_type": "stream",
     "text": [
      "Độ sâu của (1, (2, (3, 4), 5), 6): 3\n"
     ]
    }
   ],
   "execution_count": 4
  },
  {
   "metadata": {
    "ExecuteTime": {
     "end_time": "2025-06-16T10:29:01.360246Z",
     "start_time": "2025-06-16T10:29:01.353702Z"
    }
   },
   "cell_type": "code",
   "source": [
    "# 2. Gộp các tuple thành một tuple phẳng\n",
    "# Viết hàm nhận một tuple có thể chứa các tuple lồng nhau và trả về một tuple phẳng chứa tất cả các phần tử.\n",
    "# Ví dụ: t = (1, (2, 3), (4, (5, 6))) → (1, 2, 3, 4, 5, 6).\n",
    "t = (1, (2, 3), (4, (5, 6)))\n",
    "stack = [t]\n",
    "List = []\n",
    "while stack:\n",
    "    current = stack.pop(0)\n",
    "    for item in current:\n",
    "        if type(item) is tuple:\n",
    "            stack.append(item)\n",
    "        else:\n",
    "            List.append(item)\n",
    "result = tuple(List)\n",
    "print(f\"Tuple phẳng: {result}\")\n"
   ],
   "id": "94433fa6f971329",
   "outputs": [
    {
     "name": "stdout",
     "output_type": "stream",
     "text": [
      "Tuple phẳng: (1, 2, 3, 4, 5, 6)\n"
     ]
    }
   ],
   "execution_count": 8
  },
  {
   "metadata": {
    "ExecuteTime": {
     "end_time": "2025-06-16T10:57:53.174543Z",
     "start_time": "2025-06-16T10:57:53.168249Z"
    }
   },
   "cell_type": "code",
   "source": [
    "# 3. Tìm các cặp số có tổng bằng K\n",
    "# Viết hàm nhận một tuple số nguyên và một số K, trả về danh sách các cặp chỉ số (i, j) sao cho t[i] + t[j] = K.\n",
    "# Ví dụ: t = (1, 4, 2, 3, 5), K = 5 → [(1, 4), (2, 3)].\n",
    "t = (1, 4, 2, 3, 5)\n",
    "K = 5\n",
    "result = []\n",
    "for i in range(len(t)):\n",
    "    for j in range(i + 1, len(t)):\n",
    "        if t[i] + t[j] == K:\n",
    "            result.append((i, j))\n",
    "print(f\"Các cặp chỉ số có tổng bằng {K}: {result}\")"
   ],
   "id": "9c101688a893c3a1",
   "outputs": [
    {
     "name": "stdout",
     "output_type": "stream",
     "text": [
      "Các cặp chỉ số có tổng bằng 5: [(0, 1), (2, 3)]\n"
     ]
    }
   ],
   "execution_count": 9
  },
  {
   "metadata": {
    "ExecuteTime": {
     "end_time": "2025-06-16T10:59:35.600258Z",
     "start_time": "2025-06-16T10:59:35.592941Z"
    }
   },
   "cell_type": "code",
   "source": [
    "# 4. Tạo set từ các số nguyên tố\n",
    "# Viết hàm nhận một số N và trả về một set chứa tất cả các số nguyên tố nhỏ hơn hoặc bằng N.\n",
    "# Ví dụ: N = 10 → {2, 3, 5, 7}.\n",
    "N = 10\n",
    "is_prime = [True] * (N + 1)\n",
    "is_prime[0] = is_prime[1] = False\n",
    "for i in range(2, int(N ** 0.5) + 1):\n",
    "    if is_prime[i]:\n",
    "        for j in range(i * i, N + 1, i):\n",
    "            is_prime[j] = False\n",
    "prime_set = {i for i in range(2, N + 1) if is_prime[i]}\n",
    "\n",
    "print(f\"Tập hợp số nguyên tố nhỏ hơn hoặc bằng {N}: {prime_set}\")"
   ],
   "id": "2dfbd6f61f7711bf",
   "outputs": [
    {
     "name": "stdout",
     "output_type": "stream",
     "text": [
      "Tập hợp số nguyên tố nhỏ hơn hoặc bằng 10: {2, 3, 5, 7}\n"
     ]
    }
   ],
   "execution_count": 10
  },
  {
   "metadata": {
    "ExecuteTime": {
     "end_time": "2025-06-16T11:08:25.533948Z",
     "start_time": "2025-06-16T11:08:25.525615Z"
    }
   },
   "cell_type": "code",
   "source": [
    "# 5.Tạo dictionary từ tuple lồng nhau\n",
    "# Viết hàm nhận một tuple chứa các tuple (key, value) lồng nhau và tạo một dictionary.\n",
    "# Ví dụ: t = (('a', 1), ('b', ('c', 2))) → {'a': 1, 'b': {'c': 2}}.\n",
    "t = (('a', 1), ('b', ('c', 2)))\n",
    "result = {}\n",
    "stack = [(t, result)]\n",
    "while stack:\n",
    "    current_tuple, current_dict = stack.pop(0)\n",
    "    for key, value in current_tuple:\n",
    "        if isinstance(value, tuple) and all(isinstance(v, tuple) for v in value):\n",
    "            current_dict[key] = {}\n",
    "            stack.append((value, current_dict[key]))\n",
    "        else:\n",
    "            current_dict[key] = value\n",
    "print(f\"Dictionary: {result}\")"
   ],
   "id": "8a72e46a565f291d",
   "outputs": [
    {
     "name": "stdout",
     "output_type": "stream",
     "text": [
      "Dictionary: {'a': 1, 'b': ('c', 2)}\n"
     ]
    }
   ],
   "execution_count": 11
  },
  {
   "metadata": {
    "ExecuteTime": {
     "end_time": "2025-06-16T11:17:01.439279Z",
     "start_time": "2025-06-16T11:17:01.432699Z"
    }
   },
   "cell_type": "code",
   "source": [
    "# 6.Tạo dictionary từ hai danh sách\n",
    "# Viết hàm nhận hai danh sách (một chứa khóa, một chứa giá trị) và tạo một dictionary. Nếu danh sách giá trị ngắn hơn, sử dụng None cho các khóa thừa.\n",
    "# Ví dụ: keys = ['a', 'b', 'c'], values = [1, 2] → {'a': 1, 'b': 2, 'c': None}.\n",
    "keys = ['a', 'b', 'c']\n",
    "values = [1, 2]\n",
    "result = {}\n",
    "for i in range(len(keys)):\n",
    "    result[keys[i]] = values[i] if i < len(values) else None\n",
    "print(f\"Dictionary: {result}\")"
   ],
   "id": "2a35572c338bf49",
   "outputs": [
    {
     "name": "stdout",
     "output_type": "stream",
     "text": [
      "Dictionary: {'a': 1, 'b': 2, 'c': None}\n"
     ]
    }
   ],
   "execution_count": 12
  }
 ],
 "metadata": {
  "kernelspec": {
   "display_name": "Python 3",
   "language": "python",
   "name": "python3"
  },
  "language_info": {
   "codemirror_mode": {
    "name": "ipython",
    "version": 2
   },
   "file_extension": ".py",
   "mimetype": "text/x-python",
   "name": "python",
   "nbconvert_exporter": "python",
   "pygments_lexer": "ipython2",
   "version": "2.7.6"
  }
 },
 "nbformat": 4,
 "nbformat_minor": 5
}
